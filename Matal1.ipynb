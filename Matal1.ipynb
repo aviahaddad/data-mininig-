{
 "cells": [
  {
   "cell_type": "code",
   "execution_count": null,
   "metadata": {},
   "outputs": [],
   "source": [
    "def my_func(x1,x2,x3):\n",
    "    try:\n",
    "        if x1+x2+x3==0:\n",
    "            print(\"not a number-denominator equals zero\")\n",
    "        if type(x1)!=float or type(x2)!=float or type(x3) != float:\n",
    "            print(\"Error:parameters should be float\") \n",
    "        else:\n",
    "            return float(((x1+x2+x3)*(x2+x3)*x3)/(x1+x2+x3))\n",
    "    except:\n",
    "        return (\"None\")\n",
    "#my_func(\"add\",1.3,7.5) #check \n",
    "\n",
    "        "
   ]
  },
  {
   "cell_type": "code",
   "execution_count": 68,
   "metadata": {},
   "outputs": [
    {
     "name": "stdout",
     "output_type": "stream",
     "text": [
      "6\n"
     ]
    }
   ],
   "source": [
    "f=open('C:/Users/אביה חדאד/Desktop/תואר ראשון/שנה ג/כרייה וניתוח נתונים מתקדם פייתון/מטלות/text.txt')\n",
    "\n",
    "dic=dict()\n",
    "def revword(str1:str):\n",
    "    str1=str1[::-1]\n",
    "    return str1.lower()\n",
    "\n",
    "def countword(f):\n",
    "    for l in f:\n",
    "        line=l.split(\" \")\n",
    "        if len(line)==1:\n",
    "            word=line[0].lower().strip()\n",
    "            dic[word]=1\n",
    "        else:\n",
    "            for i in line:\n",
    "                b_word=revword(i).strip()\n",
    "                if b_word==word:\n",
    "                    dic[word]=dic.get(word,0)+1\n",
    "    print (dic[word])\n",
    "            \n",
    "\n",
    "countword(f)       \n",
    "        \n",
    "        \n",
    "        \n"
   ]
  },
  {
   "cell_type": "code",
   "execution_count": null,
   "metadata": {},
   "outputs": [],
   "source": [
    "\n"
   ]
  },
  {
   "cell_type": "code",
   "execution_count": null,
   "metadata": {},
   "outputs": [],
   "source": []
  },
  {
   "cell_type": "code",
   "execution_count": null,
   "metadata": {},
   "outputs": [],
   "source": []
  }
 ],
 "metadata": {
  "kernelspec": {
   "display_name": "Python 3",
   "language": "python",
   "name": "python3"
  },
  "language_info": {
   "codemirror_mode": {
    "name": "ipython",
    "version": 3
   },
   "file_extension": ".py",
   "mimetype": "text/x-python",
   "name": "python",
   "nbconvert_exporter": "python",
   "pygments_lexer": "ipython3",
   "version": "3.8.3"
  }
 },
 "nbformat": 4,
 "nbformat_minor": 4
}
